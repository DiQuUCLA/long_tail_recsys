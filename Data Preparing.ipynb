{
 "cells": [
  {
   "cell_type": "code",
   "execution_count": 59,
   "metadata": {},
   "outputs": [],
   "source": [
    "import numpy as np\n",
    "%matplotlib inline\n",
    "import matplotlib.pyplot as plt\n",
    "import pandas as pd\n",
    "import seaborn as sns\n",
    "plt.rc('font', family='SimHei', size=13)\n",
    "from tqdm import tqdm_notebook\n",
    "\n",
    "import os,gc,re,warnings,sys\n",
    "warnings.filterwarnings(\"ignore\")"
   ]
  },
  {
   "cell_type": "markdown",
   "metadata": {},
   "source": [
    "# Download Dataset"
   ]
  },
  {
   "cell_type": "code",
   "execution_count": 4,
   "metadata": {
    "scrolled": true
   },
   "outputs": [
    {
     "name": "stdout",
     "output_type": "stream",
     "text": [
      "--2020-05-20 08:24:57--  http://tianchi-public-us-east-download.oss-us-east-1.aliyuncs.com/231785/underexpose_train.zip\n",
      "Resolving tianchi-public-us-east-download.oss-us-east-1.aliyuncs.com (tianchi-public-us-east-download.oss-us-east-1.aliyuncs.com)... 47.253.30.83\n",
      "Connecting to tianchi-public-us-east-download.oss-us-east-1.aliyuncs.com (tianchi-public-us-east-download.oss-us-east-1.aliyuncs.com)|47.253.30.83|:80... connected.\n",
      "HTTP request sent, awaiting response... 200 OK\n",
      "Length: 284811120 (272M) [application/zip]\n",
      "Saving to: ‘underexpose_train.zip’\n",
      "\n",
      "underexpose_train.z 100%[===================>] 271.62M  15.0MB/s    in 20s     \n",
      "\n",
      "2020-05-20 08:25:17 (13.5 MB/s) - ‘underexpose_train.zip’ saved [284811120/284811120]\n",
      "\n"
     ]
    }
   ],
   "source": [
    "!wget http://tianchi-public-us-east-download.oss-us-east-1.aliyuncs.com/231785/underexpose_train.zip"
   ]
  },
  {
   "cell_type": "code",
   "execution_count": 5,
   "metadata": {},
   "outputs": [
    {
     "name": "stdout",
     "output_type": "stream",
     "text": [
      "--2020-05-20 08:25:17--  http://tianchi-public-us-east-download.oss-us-east-1.aliyuncs.com/231785/underexpose_test.zip\n",
      "Resolving tianchi-public-us-east-download.oss-us-east-1.aliyuncs.com (tianchi-public-us-east-download.oss-us-east-1.aliyuncs.com)... 47.253.30.83\n",
      "Connecting to tianchi-public-us-east-download.oss-us-east-1.aliyuncs.com (tianchi-public-us-east-download.oss-us-east-1.aliyuncs.com)|47.253.30.83|:80... connected.\n",
      "HTTP request sent, awaiting response... 200 OK\n",
      "Length: 3433621 (3.3M) [application/zip]\n",
      "Saving to: ‘underexpose_test.zip’\n",
      "\n",
      "underexpose_test.zi 100%[===================>]   3.27M  5.25MB/s    in 0.6s    \n",
      "\n",
      "2020-05-20 08:25:18 (5.25 MB/s) - ‘underexpose_test.zip’ saved [3433621/3433621]\n",
      "\n"
     ]
    }
   ],
   "source": [
    "!wget http://tianchi-public-us-east-download.oss-us-east-1.aliyuncs.com/231785/underexpose_test.zip"
   ]
  },
  {
   "cell_type": "code",
   "execution_count": 6,
   "metadata": {
    "scrolled": true
   },
   "outputs": [
    {
     "name": "stdout",
     "output_type": "stream",
     "text": [
      "Archive:  underexpose_train.zip\n",
      "   creating: underexpose_train/\n",
      "  inflating: underexpose_train/.DS_Store  \n",
      " extracting: underexpose_train/underexpose_train_click-2.zip  \n",
      " extracting: underexpose_train/underexpose_train_click-3.zip  \n",
      " extracting: underexpose_train/underexpose_train_click-1.zip  \n",
      "  inflating: underexpose_train/underexpose_item_feat.csv  \n",
      " extracting: underexpose_train/underexpose_train_click-4.zip  \n",
      "  inflating: underexpose_train/underexpose_user_feat.csv  \n",
      " extracting: underexpose_train/underexpose_train_click-5.zip  \n",
      "  inflating: underexpose_train/underexpose_train_click-0.csv  \n",
      " extracting: underexpose_train/underexpose_train_click-7.zip  \n",
      " extracting: underexpose_train/underexpose_train_click-6.zip  \n",
      " extracting: underexpose_train/underexpose_train_click-8.zip  \n",
      " extracting: underexpose_train/underexpose_train_click-9.zip  \n",
      "Archive:  underexpose_test.zip\n",
      "   creating: underexpose_test/\n",
      "  inflating: underexpose_test/.DS_Store  \n",
      " extracting: underexpose_test/underexpose_test_click-9.zip  \n",
      " extracting: underexpose_test/underexpose_test_click-8.zip  \n",
      " extracting: underexpose_test/underexpose_test_click-5.zip  \n",
      "   creating: underexpose_test/underexpose_test_click-0/\n",
      "  inflating: underexpose_test/underexpose_test_click-0/underexpose_test_qtime-0.csv  \n",
      "  inflating: underexpose_test/underexpose_test_click-0/underexpose_test_click-0.csv  \n",
      " extracting: underexpose_test/underexpose_test_click-4.zip  \n",
      " extracting: underexpose_test/underexpose_test_click-6.zip  \n",
      " extracting: underexpose_test/underexpose_test_click-7.zip  \n",
      " extracting: underexpose_test/underexpose_test_click-3.zip  \n",
      " extracting: underexpose_test/underexpose_test_click-2.zip  \n",
      " extracting: underexpose_test/underexpose_test_click-1.zip  \n"
     ]
    }
   ],
   "source": [
    "!unzip underexpose_train.zip\n",
    "!unzip underexpose_test.zip"
   ]
  },
  {
   "cell_type": "markdown",
   "metadata": {},
   "source": [
    "# 1. Preprocessing Data"
   ]
  },
  {
   "cell_type": "code",
   "execution_count": 2,
   "metadata": {},
   "outputs": [],
   "source": [
    "train_user_df = pd.read_csv('./underexpose_train/underexpose_user_feat.csv', names=['user_id','user_age_level','user_gender','user_city_level'])\n",
    "train_item_df = pd.read_csv('./underexpose_train/underexpose_item_feat.csv')\n",
    "train_click_0_df = pd.read_csv('./underexpose_train/underexpose_train_click-0.csv',names=['user_id','item_id','time'])"
   ]
  },
  {
   "cell_type": "code",
   "execution_count": 68,
   "metadata": {},
   "outputs": [],
   "source": [
    "test_click_0_df = pd.read_csv('./underexpose_test/underexpose_test_click-0/underexpose_test_click-0.csv', names=['user_id','item_id','time'])"
   ]
  },
  {
   "cell_type": "code",
   "execution_count": 3,
   "metadata": {},
   "outputs": [],
   "source": [
    "train_item_df.columns = ['item_id'] + ['txt_vec'+str(i) for i in range(128)] + ['img_vec'+str(i) for i in range(128)]\n",
    "train_item_df['txt_vec0'] = train_item_df['txt_vec0'].apply(lambda x:float(x[1:]))\n",
    "train_item_df['txt_vec127'] = train_item_df['txt_vec127'].apply(lambda x:float(x[:-1]))\n",
    "train_item_df['img_vec0'] = train_item_df['img_vec0'].apply(lambda x:float(x[1:]))\n",
    "train_item_df['img_vec127'] = train_item_df['img_vec127'].apply(lambda x:float(x[:-1]))\n",
    "\n",
    "# rank\n",
    "train_click_0_df['rank'] = train_click_0_df.groupby(['user_id'])['time'].rank(ascending=False).astype(int)\n",
    "\n",
    "# click cnts\n",
    "train_click_0_df['click_cnts'] = train_click_0_df.groupby(['user_id'])['time'].transform('count')"
   ]
  },
  {
   "cell_type": "code",
   "execution_count": 25,
   "metadata": {},
   "outputs": [
    {
     "data": {
      "text/html": [
       "<div>\n",
       "<style scoped>\n",
       "    .dataframe tbody tr th:only-of-type {\n",
       "        vertical-align: middle;\n",
       "    }\n",
       "\n",
       "    .dataframe tbody tr th {\n",
       "        vertical-align: top;\n",
       "    }\n",
       "\n",
       "    .dataframe thead th {\n",
       "        text-align: right;\n",
       "    }\n",
       "</style>\n",
       "<table border=\"1\" class=\"dataframe\">\n",
       "  <thead>\n",
       "    <tr style=\"text-align: right;\">\n",
       "      <th></th>\n",
       "      <th>item_id</th>\n",
       "      <th>txt_vec0</th>\n",
       "      <th>txt_vec1</th>\n",
       "      <th>txt_vec2</th>\n",
       "      <th>txt_vec3</th>\n",
       "      <th>txt_vec4</th>\n",
       "      <th>txt_vec5</th>\n",
       "      <th>txt_vec6</th>\n",
       "      <th>txt_vec7</th>\n",
       "      <th>txt_vec8</th>\n",
       "      <th>...</th>\n",
       "      <th>img_vec118</th>\n",
       "      <th>img_vec119</th>\n",
       "      <th>img_vec120</th>\n",
       "      <th>img_vec121</th>\n",
       "      <th>img_vec122</th>\n",
       "      <th>img_vec123</th>\n",
       "      <th>img_vec124</th>\n",
       "      <th>img_vec125</th>\n",
       "      <th>img_vec126</th>\n",
       "      <th>img_vec127</th>\n",
       "    </tr>\n",
       "  </thead>\n",
       "  <tbody>\n",
       "    <tr>\n",
       "      <th>0</th>\n",
       "      <td>67898</td>\n",
       "      <td>-2.002905</td>\n",
       "      <td>-0.929881</td>\n",
       "      <td>0.790017</td>\n",
       "      <td>-1.380895</td>\n",
       "      <td>-0.510463</td>\n",
       "      <td>-1.810096</td>\n",
       "      <td>1.363962</td>\n",
       "      <td>0.497401</td>\n",
       "      <td>-4.038903</td>\n",
       "      <td>...</td>\n",
       "      <td>-0.538330</td>\n",
       "      <td>-2.620164</td>\n",
       "      <td>1.277195</td>\n",
       "      <td>0.601015</td>\n",
       "      <td>-0.345312</td>\n",
       "      <td>0.993457</td>\n",
       "      <td>1.351633</td>\n",
       "      <td>2.162675</td>\n",
       "      <td>2.768597</td>\n",
       "      <td>-0.937197</td>\n",
       "    </tr>\n",
       "    <tr>\n",
       "      <th>1</th>\n",
       "      <td>66446</td>\n",
       "      <td>4.221673</td>\n",
       "      <td>-1.497139</td>\n",
       "      <td>1.133570</td>\n",
       "      <td>-2.745607</td>\n",
       "      <td>-4.197045</td>\n",
       "      <td>-0.542392</td>\n",
       "      <td>-1.396256</td>\n",
       "      <td>1.838419</td>\n",
       "      <td>-6.066454</td>\n",
       "      <td>...</td>\n",
       "      <td>-4.582711</td>\n",
       "      <td>-1.056910</td>\n",
       "      <td>-2.568084</td>\n",
       "      <td>-2.038061</td>\n",
       "      <td>2.508719</td>\n",
       "      <td>-0.764789</td>\n",
       "      <td>-0.657116</td>\n",
       "      <td>3.252782</td>\n",
       "      <td>2.687366</td>\n",
       "      <td>0.844332</td>\n",
       "    </tr>\n",
       "    <tr>\n",
       "      <th>2</th>\n",
       "      <td>63651</td>\n",
       "      <td>2.657970</td>\n",
       "      <td>-0.941863</td>\n",
       "      <td>1.121529</td>\n",
       "      <td>-5.109496</td>\n",
       "      <td>-0.279041</td>\n",
       "      <td>-0.351968</td>\n",
       "      <td>-1.086983</td>\n",
       "      <td>2.703607</td>\n",
       "      <td>-6.494977</td>\n",
       "      <td>...</td>\n",
       "      <td>-0.487683</td>\n",
       "      <td>-1.889119</td>\n",
       "      <td>0.943015</td>\n",
       "      <td>-2.834418</td>\n",
       "      <td>1.633184</td>\n",
       "      <td>2.001801</td>\n",
       "      <td>-2.333152</td>\n",
       "      <td>2.645595</td>\n",
       "      <td>2.280233</td>\n",
       "      <td>-0.694448</td>\n",
       "    </tr>\n",
       "    <tr>\n",
       "      <th>3</th>\n",
       "      <td>46824</td>\n",
       "      <td>3.192195</td>\n",
       "      <td>-1.936676</td>\n",
       "      <td>1.199909</td>\n",
       "      <td>-2.562152</td>\n",
       "      <td>-2.573456</td>\n",
       "      <td>0.575841</td>\n",
       "      <td>-2.358653</td>\n",
       "      <td>1.620844</td>\n",
       "      <td>-4.302936</td>\n",
       "      <td>...</td>\n",
       "      <td>-0.621475</td>\n",
       "      <td>-2.091410</td>\n",
       "      <td>0.501600</td>\n",
       "      <td>-3.083864</td>\n",
       "      <td>-1.060091</td>\n",
       "      <td>2.053600</td>\n",
       "      <td>-2.025008</td>\n",
       "      <td>2.399251</td>\n",
       "      <td>2.562317</td>\n",
       "      <td>0.694134</td>\n",
       "    </tr>\n",
       "    <tr>\n",
       "      <th>4</th>\n",
       "      <td>54655</td>\n",
       "      <td>1.641749</td>\n",
       "      <td>-1.011634</td>\n",
       "      <td>1.384040</td>\n",
       "      <td>-3.133104</td>\n",
       "      <td>-2.391770</td>\n",
       "      <td>3.766695</td>\n",
       "      <td>-0.907111</td>\n",
       "      <td>-0.560001</td>\n",
       "      <td>-3.468522</td>\n",
       "      <td>...</td>\n",
       "      <td>0.384647</td>\n",
       "      <td>-3.800584</td>\n",
       "      <td>-1.892834</td>\n",
       "      <td>-3.747731</td>\n",
       "      <td>-0.024840</td>\n",
       "      <td>0.601698</td>\n",
       "      <td>-1.463611</td>\n",
       "      <td>2.523813</td>\n",
       "      <td>1.568262</td>\n",
       "      <td>-0.235627</td>\n",
       "    </tr>\n",
       "  </tbody>\n",
       "</table>\n",
       "<p>5 rows × 257 columns</p>\n",
       "</div>"
      ],
      "text/plain": [
       "   item_id  txt_vec0  txt_vec1  txt_vec2  txt_vec3  txt_vec4  txt_vec5  \\\n",
       "0    67898 -2.002905 -0.929881  0.790017 -1.380895 -0.510463 -1.810096   \n",
       "1    66446  4.221673 -1.497139  1.133570 -2.745607 -4.197045 -0.542392   \n",
       "2    63651  2.657970 -0.941863  1.121529 -5.109496 -0.279041 -0.351968   \n",
       "3    46824  3.192195 -1.936676  1.199909 -2.562152 -2.573456  0.575841   \n",
       "4    54655  1.641749 -1.011634  1.384040 -3.133104 -2.391770  3.766695   \n",
       "\n",
       "   txt_vec6  txt_vec7  txt_vec8  ...  img_vec118  img_vec119  img_vec120  \\\n",
       "0  1.363962  0.497401 -4.038903  ...   -0.538330   -2.620164    1.277195   \n",
       "1 -1.396256  1.838419 -6.066454  ...   -4.582711   -1.056910   -2.568084   \n",
       "2 -1.086983  2.703607 -6.494977  ...   -0.487683   -1.889119    0.943015   \n",
       "3 -2.358653  1.620844 -4.302936  ...   -0.621475   -2.091410    0.501600   \n",
       "4 -0.907111 -0.560001 -3.468522  ...    0.384647   -3.800584   -1.892834   \n",
       "\n",
       "   img_vec121  img_vec122  img_vec123  img_vec124  img_vec125  img_vec126  \\\n",
       "0    0.601015   -0.345312    0.993457    1.351633    2.162675    2.768597   \n",
       "1   -2.038061    2.508719   -0.764789   -0.657116    3.252782    2.687366   \n",
       "2   -2.834418    1.633184    2.001801   -2.333152    2.645595    2.280233   \n",
       "3   -3.083864   -1.060091    2.053600   -2.025008    2.399251    2.562317   \n",
       "4   -3.747731   -0.024840    0.601698   -1.463611    2.523813    1.568262   \n",
       "\n",
       "   img_vec127  \n",
       "0   -0.937197  \n",
       "1    0.844332  \n",
       "2   -0.694448  \n",
       "3    0.694134  \n",
       "4   -0.235627  \n",
       "\n",
       "[5 rows x 257 columns]"
      ]
     },
     "execution_count": 25,
     "metadata": {},
     "output_type": "execute_result"
    }
   ],
   "source": [
    "train_item_df.head(5)"
   ]
  },
  {
   "cell_type": "code",
   "execution_count": 4,
   "metadata": {},
   "outputs": [
    {
     "data": {
      "text/html": [
       "<div>\n",
       "<style scoped>\n",
       "    .dataframe tbody tr th:only-of-type {\n",
       "        vertical-align: middle;\n",
       "    }\n",
       "\n",
       "    .dataframe tbody tr th {\n",
       "        vertical-align: top;\n",
       "    }\n",
       "\n",
       "    .dataframe thead th {\n",
       "        text-align: right;\n",
       "    }\n",
       "</style>\n",
       "<table border=\"1\" class=\"dataframe\">\n",
       "  <thead>\n",
       "    <tr style=\"text-align: right;\">\n",
       "      <th></th>\n",
       "      <th>user_id</th>\n",
       "      <th>item_id</th>\n",
       "      <th>time</th>\n",
       "      <th>rank</th>\n",
       "      <th>click_cnts</th>\n",
       "    </tr>\n",
       "  </thead>\n",
       "  <tbody>\n",
       "    <tr>\n",
       "      <th>0</th>\n",
       "      <td>4965</td>\n",
       "      <td>18</td>\n",
       "      <td>0.983763</td>\n",
       "      <td>27</td>\n",
       "      <td>29</td>\n",
       "    </tr>\n",
       "    <tr>\n",
       "      <th>1</th>\n",
       "      <td>20192</td>\n",
       "      <td>34</td>\n",
       "      <td>0.983772</td>\n",
       "      <td>17</td>\n",
       "      <td>20</td>\n",
       "    </tr>\n",
       "    <tr>\n",
       "      <th>2</th>\n",
       "      <td>30128</td>\n",
       "      <td>91</td>\n",
       "      <td>0.983780</td>\n",
       "      <td>23</td>\n",
       "      <td>28</td>\n",
       "    </tr>\n",
       "    <tr>\n",
       "      <th>3</th>\n",
       "      <td>29473</td>\n",
       "      <td>189</td>\n",
       "      <td>0.983930</td>\n",
       "      <td>5</td>\n",
       "      <td>20</td>\n",
       "    </tr>\n",
       "    <tr>\n",
       "      <th>4</th>\n",
       "      <td>10625</td>\n",
       "      <td>225</td>\n",
       "      <td>0.983925</td>\n",
       "      <td>6</td>\n",
       "      <td>37</td>\n",
       "    </tr>\n",
       "  </tbody>\n",
       "</table>\n",
       "</div>"
      ],
      "text/plain": [
       "   user_id  item_id      time  rank  click_cnts\n",
       "0     4965       18  0.983763    27          29\n",
       "1    20192       34  0.983772    17          20\n",
       "2    30128       91  0.983780    23          28\n",
       "3    29473      189  0.983930     5          20\n",
       "4    10625      225  0.983925     6          37"
      ]
     },
     "execution_count": 4,
     "metadata": {},
     "output_type": "execute_result"
    }
   ],
   "source": [
    "train_click_0_df.head(5)"
   ]
  },
  {
   "cell_type": "code",
   "execution_count": 5,
   "metadata": {},
   "outputs": [],
   "source": [
    "item_count = train_click_0_df.groupby(['item_id'])['time'].transform('count').sort_values(ascending=False)"
   ]
  },
  {
   "cell_type": "code",
   "execution_count": 10,
   "metadata": {},
   "outputs": [
    {
     "data": {
      "text/plain": [
       "124454    215\n",
       "212222    215\n",
       "212230    215\n",
       "212229    215\n",
       "168332    215\n",
       "         ... \n",
       "80736       1\n",
       "91250       1\n",
       "169967      1\n",
       "31232       1\n",
       "144371      1\n",
       "Name: time, Length: 241784, dtype: int64"
      ]
     },
     "execution_count": 10,
     "metadata": {},
     "output_type": "execute_result"
    }
   ],
   "source": [
    "item_count"
   ]
  },
  {
   "cell_type": "code",
   "execution_count": 6,
   "metadata": {},
   "outputs": [],
   "source": [
    "train_item_id = list(train_item_df[\"item_id\"])"
   ]
  },
  {
   "cell_type": "code",
   "execution_count": 38,
   "metadata": {},
   "outputs": [],
   "source": [
    "def get_possible_negative_item(item_count, threshold=10, given_item=None):\n",
    "    # Choose the item with click larger than the given threshold\n",
    "    # Combine the list with all items in train_item csv \n",
    "    # Return the list of index and its distribution\n",
    "    negative_item_list = list(item_count[item_count > 10].index)\n",
    "    negative_with_chosen_item = list(set(given_item + negative_item_list))\n",
    "    negative_dist = np.ones(len(negative_with_chosen_item))\n",
    "    for i, idx in enumerate(negative_with_chosen_item):\n",
    "        if idx in item_count:\n",
    "            negative_dist[i] = item_count[idx]\n",
    "    negative_dist /= sum(negative_dist)\n",
    "    return negative_with_chosen_item, negative_dist\n",
    "\n",
    "def negative_sample(possible_negative_items, pni_dist, sample_amount=5):\n",
    "    random_sample = np.random.choice(possible_negative_items, sample_amount, replace=False, p=pni_dist)\n",
    "    return random_sample"
   ]
  },
  {
   "cell_type": "code",
   "execution_count": 39,
   "metadata": {},
   "outputs": [],
   "source": [
    "possible_neg_item, neg_dist = get_possible_negative_item(item_count, given_item=train_item_id)"
   ]
  },
  {
   "cell_type": "code",
   "execution_count": 34,
   "metadata": {},
   "outputs": [
    {
     "data": {
      "text/plain": [
       "140864"
      ]
     },
     "execution_count": 34,
     "metadata": {},
     "output_type": "execute_result"
    }
   ],
   "source": [
    "len(possible_neg_item)\n",
    "len(neg_dist)"
   ]
  },
  {
   "cell_type": "code",
   "execution_count": 41,
   "metadata": {},
   "outputs": [
    {
     "data": {
      "text/plain": [
       "array([149812, 168408, 190327, 205300,  63823])"
      ]
     },
     "execution_count": 41,
     "metadata": {},
     "output_type": "execute_result"
    }
   ],
   "source": [
    "negative_sample(possible_neg_item, neg_dist)"
   ]
  },
  {
   "cell_type": "code",
   "execution_count": 62,
   "metadata": {},
   "outputs": [
    {
     "data": {
      "application/vnd.jupyter.widget-view+json": {
       "model_id": "e609ef814ffd4f988bbec67dea64285c",
       "version_major": 2,
       "version_minor": 0
      },
      "text/plain": [
       "HBox(children=(IntProgress(value=0, max=241784), HTML(value='')))"
      ]
     },
     "metadata": {},
     "output_type": "display_data"
    },
    {
     "name": "stdout",
     "output_type": "stream",
     "text": [
      "\n"
     ]
    }
   ],
   "source": [
    "training_data = []\n",
    "pos_user_item = train_click_0_df[[\"user_id\", \"item_id\"]]\n",
    "for pair in tqdm_notebook(pos_user_item.to_numpy()):\n",
    "    userId = pair[0]\n",
    "    pos_pair = (userId, pair[1], 1)\n",
    "    # Get Negative pair (User Id, Item Id, 0)\n",
    "    negative_item = negative_sample(possible_neg_item, neg_dist, 5)\n",
    "    negative_pairs = [(userId, itemId, 0) for itemId in negative_item]\n",
    "    training_data.append(pos_pair)\n",
    "    training_data.extend(negative_pairs)"
   ]
  },
  {
   "cell_type": "code",
   "execution_count": 63,
   "metadata": {},
   "outputs": [],
   "source": [
    "np.random.shuffle(training_data)"
   ]
  },
  {
   "cell_type": "code",
   "execution_count": 66,
   "metadata": {},
   "outputs": [],
   "source": [
    "with open(\"train.rating\", 'w') as f:\n",
    "    for pair in training_data:\n",
    "        f.write(\"{}\\t{}\\t{}\\n\".format(pair[0], pair[1], pair[2]))"
   ]
  },
  {
   "cell_type": "code",
   "execution_count": 74,
   "metadata": {},
   "outputs": [
    {
     "data": {
      "application/vnd.jupyter.widget-view+json": {
       "model_id": "b3ed90cb21ec40d7a835da6ca7f1a11d",
       "version_major": 2,
       "version_minor": 0
      },
      "text/plain": [
       "HBox(children=(IntProgress(value=0, max=21216), HTML(value='')))"
      ]
     },
     "metadata": {},
     "output_type": "display_data"
    },
    {
     "name": "stdout",
     "output_type": "stream",
     "text": [
      "\n"
     ]
    }
   ],
   "source": [
    "test_data, neg_test_samples = [], []\n",
    "test_user_item = test_click_0_df[[\"user_id\", \"item_id\"]]\n",
    "for pair in tqdm_notebook(test_user_item.to_numpy()):\n",
    "    test_pair = (pair[0], pair[1], 1)\n",
    "    test_data.append(test_pair)\n",
    "    \n",
    "    neg_test_items = negative_sample(possible_neg_item, neg_dist, 99)\n",
    "    neg_test_sample = [tuple(pair), neg_test_items]\n",
    "    neg_test_samples.append(neg_test_sample)"
   ]
  },
  {
   "cell_type": "code",
   "execution_count": 83,
   "metadata": {},
   "outputs": [],
   "source": [
    "with open(\"test.rating\", 'w') as f:\n",
    "    for pair in test_data:\n",
    "        f.write(\"{}\\t{}\\t{}\\n\".format(pair[0], pair[1], pair[2]))\n",
    "\n",
    "with open(\"test.negative\", 'w') as f:\n",
    "    for l in neg_test_samples:\n",
    "        negativeItems = \"\\t\".join([str(n) for n in l[1]])\n",
    "        f.write(\"({},{})\\t{}\\n\".format(l[0][0], l[0][1], negativeItems))"
   ]
  },
  {
   "cell_type": "code",
   "execution_count": 82,
   "metadata": {},
   "outputs": [
    {
     "name": "stdout",
     "output_type": "stream",
     "text": [
      "204881\t72817\t124904\t30389\t106493\t27590\t45482\t104732\t226255\t146820\t39410\t31158\t87335\t183202\t231572\t69372\t16597\t19606\t67350\t88705\t14465\t106915\t183662\t38028\t116433\t38925\t153774\t104777\t193372\t220057\t173288\t28503\t129086\t166047\t189598\t75962\t78542\t73453\t196902\t161645\t127490\t227218\t176821\t142624\t31122\t105786\t6645\t57476\t121730\t10724\t103923\t126400\t67084\t55645\t102363\t96782\t12552\t178140\t25480\t87025\t229799\t178206\t21571\t29405\t225873\t130499\t36753\t27425\t118183\t87703\t105174\t89348\t159720\t162023\t56620\t32876\t152626\t98904\t135955\t128943\t100706\t32489\t33195\t120703\t118313\t89898\t3182\t73631\t183758\t46094\t47021\t161492\t239493\t104390\t82588\t190315\t241645\t150892\t85207\n"
     ]
    }
   ],
   "source": [
    "print(\"\\t\".join([str(n) for n in l[1]]))"
   ]
  },
  {
   "cell_type": "code",
   "execution_count": null,
   "metadata": {},
   "outputs": [],
   "source": []
  }
 ],
 "metadata": {
  "kernelspec": {
   "display_name": "Python 3",
   "language": "python",
   "name": "python3"
  },
  "language_info": {
   "codemirror_mode": {
    "name": "ipython",
    "version": 3
   },
   "file_extension": ".py",
   "mimetype": "text/x-python",
   "name": "python",
   "nbconvert_exporter": "python",
   "pygments_lexer": "ipython3",
   "version": "3.6.9"
  }
 },
 "nbformat": 4,
 "nbformat_minor": 2
}
